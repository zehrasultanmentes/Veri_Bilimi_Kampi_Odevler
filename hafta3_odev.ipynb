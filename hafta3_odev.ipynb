{
  "nbformat": 4,
  "nbformat_minor": 0,
  "metadata": {
    "colab": {
      "provenance": []
    },
    "kernelspec": {
      "name": "python3",
      "display_name": "Python 3"
    },
    "language_info": {
      "name": "python"
    }
  },
  "cells": [
    {
      "cell_type": "code",
      "execution_count": 11,
      "metadata": {
        "colab": {
          "base_uri": "https://localhost:8080/"
        },
        "id": "Sjor9Q5UB0sZ",
        "outputId": "31444854-fc71-4c8c-eeef-814b1d200d65"
      },
      "outputs": [
        {
          "output_type": "stream",
          "name": "stdout",
          "text": [
            "benzersiz liste, [100, 92, 85, 76]\n",
            "en büyük:  100\n",
            "en küçük: 76\n",
            "sirali notlar  [76, 76, 85, 85, 92, 92, 92, 100]\n"
          ]
        }
      ],
      "source": [
        "notlar = [85, 92, 76, 92, 100, 76, 85, 92]\n",
        "benzersiz_notlar = list(set(notlar))\n",
        "print(\"benzersiz liste,\",benzersiz_notlar)\n",
        "\n",
        "buyuk = max(notlar)\n",
        "kucuk=min(notlar)\n",
        "print(\"en büyük: \",buyuk)\n",
        "print(\"en küçük:\",kucuk)\n",
        "\n",
        "sirali_notlar = sorted(notlar)\n",
        "print(\"sirali notlar \",sirali_notlar)"
      ]
    },
    {
      "cell_type": "code",
      "source": [
        "def armstrong(sayi):\n",
        "  basamak=str(sayi)\n",
        "  toplam=0\n",
        "  for rakam in basamak:\n",
        "    toplam +=int(rakam)**3\n",
        "\n",
        "  return toplam == sayi,\n",
        "\n",
        "print(armstrong(153))\n",
        "print(armstrong(999))\n",
        "print(armstrong(371))\n",
        "print(armstrong(333))\n"
      ],
      "metadata": {
        "colab": {
          "base_uri": "https://localhost:8080/"
        },
        "id": "tmID4ziZDtQk",
        "outputId": "9051e604-c50a-4de5-b3ae-3903d5bc0f11"
      },
      "execution_count": 13,
      "outputs": [
        {
          "output_type": "stream",
          "name": "stdout",
          "text": [
            "(True,)\n",
            "(False,)\n",
            "(True,)\n",
            "(False,)\n"
          ]
        }
      ]
    },
    {
      "cell_type": "code",
      "source": [
        "A = {\"Python\", \"R\", \"SQL\", \"Java\"}\n",
        "B = {\"C++\", \"Python\", \"JavaScript\", \"SQL\"}\n",
        "\n",
        "birles = A & B\n",
        "sadece_A = A | B\n",
        "sirali = sorted(A | B)\n",
        "\n",
        "print(\"ortak olanlar\", birles)\n",
        "print(\"sadece A da olanlar\",sadece_A)\n",
        "print(\"alfabetik siralama\", sirali)"
      ],
      "metadata": {
        "colab": {
          "base_uri": "https://localhost:8080/"
        },
        "id": "ZpW0qYaCEy2h",
        "outputId": "fbdaa344-100e-4d72-e772-fe8f6b6dd0cc"
      },
      "execution_count": 14,
      "outputs": [
        {
          "output_type": "stream",
          "name": "stdout",
          "text": [
            "ortak olanlar {'SQL', 'Python'}\n",
            "sadece A da olanlar {'C++', 'R', 'SQL', 'Python', 'JavaScript', 'Java'}\n",
            "alfabetik siralama ['C++', 'Java', 'JavaScript', 'Python', 'R', 'SQL']\n"
          ]
        }
      ]
    },
    {
      "cell_type": "code",
      "source": [
        "import random\n",
        "import statistics\n",
        "\n",
        "sayi = [random.randint(1,100) for i in range(10)]\n",
        "ortalama = statistics.mean(sayi)\n",
        "print(sayi)\n",
        "print(\"ortalama\",ortalama)\n",
        "std_sapma = statistics.stdev(sayi)\n",
        "print(\"standart sapması\",std_sapma)"
      ],
      "metadata": {
        "colab": {
          "base_uri": "https://localhost:8080/"
        },
        "id": "2IXNTlT3FcRy",
        "outputId": "74ce15bf-a8af-4197-a41f-4d8bc90edb2e"
      },
      "execution_count": 17,
      "outputs": [
        {
          "output_type": "stream",
          "name": "stdout",
          "text": [
            "[38, 16, 2, 22, 87, 12, 45, 27, 79, 50]\n",
            "ortalama 37.8\n",
            "standart sapması 28.10219445761013\n"
          ]
        }
      ]
    },
    {
      "cell_type": "code",
      "source": [
        "def kelime_sayici(metin):\n",
        "  kelimeler = metin.split()\n",
        "  toplam = len(kelimeler)\n",
        "  en_uzun = max(kelimeler,key=len)\n",
        "\n",
        "  en_cok_tekrar = {}\n",
        "  for i in kelimeler:\n",
        "    if i in en_cok_tekrar:\n",
        "      en_cok_tekrar[i] += 1\n",
        "    else :\n",
        "      en_cok_tekrar[i] = 1\n",
        "\n",
        "  bulduk = max(en_cok_tekrar,key=en_cok_tekrar.get)\n",
        "  return toplam,en_uzun,bulduk\n",
        "\n",
        "metin = \"Bugün hava güneşli ve hava çok güzel insanın iiçini ısıtıyor\"\n",
        "print(kelime_sayici(metin))\n"
      ],
      "metadata": {
        "colab": {
          "base_uri": "https://localhost:8080/"
        },
        "id": "C3Gwty3LGLrH",
        "outputId": "35e3720c-5bdc-4a9c-f851-f0cdd6036dea"
      },
      "execution_count": 18,
      "outputs": [
        {
          "output_type": "stream",
          "name": "stdout",
          "text": [
            "(10, 'ısıtıyor', 'hava')\n"
          ]
        }
      ]
    },
    {
      "cell_type": "code",
      "source": [
        "sayilar = [5, 12, 7, 18, 24, 3, 16]\n",
        "cift = list(filter(lambda x: x%2 == 0,sayilar))\n",
        "print(\"çift sayılar\",cift)\n",
        "kare = list(map(lambda x: x**2,cift))\n",
        "print(\"sayıların kareleri\",kare)\n",
        "kareler = sorted(sayilar , reverse =True)\n",
        "print(\"sayıların karelerinin azdan çoğasıralanmış hali\",kareler)"
      ],
      "metadata": {
        "colab": {
          "base_uri": "https://localhost:8080/"
        },
        "id": "eSFaarAlHk7L",
        "outputId": "79197638-05cc-40b5-d988-7532890c5ca2"
      },
      "execution_count": 25,
      "outputs": [
        {
          "output_type": "stream",
          "name": "stdout",
          "text": [
            "çift sayılar [12, 18, 24, 16]\n",
            "sayıların kareleri [144, 324, 576, 256]\n",
            "sayıların karelerinin azdan çoğasıralanmış hali [24, 18, 16, 12, 7, 5, 3]\n"
          ]
        }
      ]
    },
    {
      "cell_type": "code",
      "source": [
        "kelimeler = [\"veri\", \"bilim\", \"analiz\", \"yapayzeka\", \"python\"]\n",
        "\n",
        "uzunluk = list(map(lambda x:( len(x),x),kelimeler))\n",
        "sirali = sorted(uzunluk)\n",
        "sonuc = list(map(lambda x:x[1],sirali))\n",
        "print(sonuc)"
      ],
      "metadata": {
        "colab": {
          "base_uri": "https://localhost:8080/"
        },
        "id": "xpAYPN7cKrgi",
        "outputId": "ec4a9e64-0823-4a13-bfdb-4ba3327ab54a"
      },
      "execution_count": 29,
      "outputs": [
        {
          "output_type": "stream",
          "name": "stdout",
          "text": [
            "['veri', 'bilim', 'analiz', 'python', 'yapayzeka']\n"
          ]
        }
      ]
    },
    {
      "cell_type": "code",
      "source": [
        "def rakam_bul(metin):\n",
        "    toplam = 0\n",
        "    sayi = \"\"\n",
        "    for i in metin:\n",
        "        if i.isdigit():\n",
        "            sayi += i\n",
        "        else:\n",
        "            if sayi:   # sayi boş değilse\n",
        "                toplam += int(sayi)\n",
        "                sayi = \"\"   # sıfırla\n",
        "\n",
        "    if sayi:   # en son kalan sayı varsa ekle\n",
        "        toplam += int(sayi)\n",
        "\n",
        "    return toplam\n",
        "\n",
        "\n",
        "metin = \"salnass5fmv0kffn6f9w5w4\"\n",
        "print(rakam_bul(metin))\n"
      ],
      "metadata": {
        "colab": {
          "base_uri": "https://localhost:8080/"
        },
        "id": "dfF1bKo5QF5o",
        "outputId": "2fc84f00-f2f8-4d5a-80cd-cbc95c557292"
      },
      "execution_count": 33,
      "outputs": [
        {
          "output_type": "stream",
          "name": "stdout",
          "text": [
            "29\n"
          ]
        }
      ]
    },
    {
      "cell_type": "code",
      "source": [
        "import numpy as np\n",
        "dizi = np.random.randint(0,50,10)\n",
        "\n",
        "ortalama = np.mean(dizi)\n",
        "std_sapma = np.std(dizi)\n",
        "en_buyuk = np.max(dizi)\n",
        "\n",
        "print(\"sayilar\",sayilar)\n",
        "print(\"ortalaması\",ortalama)\n",
        "print(\"standart sapması\",std_sapma)\n",
        "print(\"en büyük sayi\",en_buyuk)"
      ],
      "metadata": {
        "colab": {
          "base_uri": "https://localhost:8080/"
        },
        "id": "6HRoaAu6TPOv",
        "outputId": "611a8a57-c274-43b5-b0f2-8d5b3801763e"
      },
      "execution_count": 34,
      "outputs": [
        {
          "output_type": "stream",
          "name": "stdout",
          "text": [
            "sayilar [5, 12, 7, 18, 24, 3, 16]\n",
            "ortalaması 19.8\n",
            "standart sapması 12.820296408429876\n",
            "en büyük sayi 36\n"
          ]
        }
      ]
    },
    {
      "cell_type": "code",
      "source": [
        "import numpy as np\n",
        "\n",
        "matris = np.random.rand(5, 5)\n",
        "print(\"Orijinal Matris:\\n\", matris)\n",
        "\n",
        "sutun_ort = np.mean(matris, axis=0)\n",
        "print(\"\\nSütun Ortalamaları:\\n\", sutun_ort)\n",
        "\n",
        "binary_matris = (matris > 0.5).astype(int)\n",
        "print(\"\\nBinary Matris:\\n\", binary_matris)\n"
      ],
      "metadata": {
        "colab": {
          "base_uri": "https://localhost:8080/"
        },
        "id": "LbOhBYpqUJbh",
        "outputId": "72fbd09e-5dc3-4de1-bb7b-1e0ad723bcf8"
      },
      "execution_count": 35,
      "outputs": [
        {
          "output_type": "stream",
          "name": "stdout",
          "text": [
            "Orijinal Matris:\n",
            " [[0.50314266 0.90531945 0.17902902 0.48502219 0.10133363]\n",
            " [0.91848743 0.12306321 0.02998132 0.81451326 0.80995633]\n",
            " [0.73913154 0.71509094 0.38446025 0.81789341 0.27098493]\n",
            " [0.28780555 0.28878077 0.89098823 0.08856916 0.18117455]\n",
            " [0.12099207 0.54850311 0.65338258 0.10327959 0.05363153]]\n",
            "\n",
            "Sütun Ortalamaları:\n",
            " [0.51391185 0.5161515  0.42756828 0.46185552 0.28341619]\n",
            "\n",
            "Binary Matris:\n",
            " [[1 1 0 0 0]\n",
            " [1 0 0 1 1]\n",
            " [1 1 0 1 0]\n",
            " [0 0 1 0 0]\n",
            " [0 1 1 0 0]]\n"
          ]
        }
      ]
    },
    {
      "cell_type": "code",
      "source": [],
      "metadata": {
        "id": "Y13-0Nk7Ucli"
      },
      "execution_count": null,
      "outputs": []
    }
  ]
}