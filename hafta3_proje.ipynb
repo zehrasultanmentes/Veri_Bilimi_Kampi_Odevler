{
  "nbformat": 4,
  "nbformat_minor": 0,
  "metadata": {
    "colab": {
      "provenance": []
    },
    "kernelspec": {
      "name": "python3",
      "display_name": "Python 3"
    },
    "language_info": {
      "name": "python"
    }
  },
  "cells": [
    {
      "cell_type": "code",
      "execution_count": 2,
      "metadata": {
        "id": "begZq4Aye6vb"
      },
      "outputs": [],
      "source": [
        "kitaplar = [\n",
        " {\"isim\": \"Veri Bilimi 101\", \"yazar\": \"Ali\", \"tur\": \"Bilim\", \"satis\": 1200, \"yil\": 2021},\n",
        " {\"isim\": \"Python ile Yapay Zeka\", \"yazar\": \"Ayşe\", \"tur\": \"Bilim\", \"satis\": 950, \"yil\":\n",
        "2020},\n",
        " {\"isim\": \"İstatistik Temelleri\", \"yazar\": \"Ali\", \"tur\": \"Akademik\", \"satis\": 700, \"yil\": 2019},\n",
        " {\"isim\": \"Makine Öğrenmesi\", \"yazar\": \"Can\", \"tur\": \"Bilim\", \"satis\": 1800, \"yil\": 2022},\n",
        " {\"isim\": \"Veri Görselleştirme\", \"yazar\": \"Deniz\", \"tur\": \"Sanat\", \"satis\": 400, \"yil\": 2018},\n",
        " {\"isim\": \"Matematiksel Modelleme\", \"yazar\": \"Ali\", \"tur\": \"Akademik\", \"satis\": 1500,\n",
        "\"yil\": 2021},\n",
        " {\"isim\": \"Bilgi Toplumu\", \"yazar\": \"Ayşe\", \"tur\": \"Sosyal\", \"satis\": 600, \"yil\": 2022}\n",
        "]\n"
      ]
    },
    {
      "cell_type": "code",
      "source": [
        "def en_cok_satan(kitaplar):\n",
        "  en_cok =  max(kitaplar, key=lambda x: x[\"satis\"])\n",
        "  return en_cok\n",
        "\n",
        "def yazar_satislari(kitaplar):\n",
        "  satislar = {}\n",
        "  for kitap in kitaplar:\n",
        "    yazar = kitap[\"yazar\"]\n",
        "    isim = kitap[\"isim\"]\n",
        "    if yazar not in satislar:\n",
        "            satislar[yazar] = 0\n",
        "\n",
        "            satislar[yazar] += kitap[\"satis\"]\n",
        "\n",
        "  return satislar\n",
        "\n",
        "print(en_cok_satan(kitaplar))\n",
        "print(yazar_satislari(kitaplar))\n"
      ],
      "metadata": {
        "colab": {
          "base_uri": "https://localhost:8080/"
        },
        "id": "4oNPj3VofEd8",
        "outputId": "cd0a7fcf-5c71-4f19-a15b-0431a40d71ca"
      },
      "execution_count": 3,
      "outputs": [
        {
          "output_type": "stream",
          "name": "stdout",
          "text": [
            "{'isim': 'Makine Öğrenmesi', 'yazar': 'Can', 'tur': 'Bilim', 'satis': 1800, 'yil': 2022}\n",
            "{'Ali': 1200, 'Ayşe': 950, 'Can': 1800, 'Deniz': 400}\n"
          ]
        }
      ]
    },
    {
      "cell_type": "code",
      "source": [
        "turler = ()\n",
        "for kitap in kitaplar:\n",
        "  tur = kitap[\"tur\"]\n",
        "  if tur not in turler:\n",
        "    turler += (tur,)\n",
        "\n",
        "\n",
        "\n",
        "print(\"kitap turleri: \",turler)\n",
        "\n",
        "cok_satanlar = [kitap[\"isim\"] for kitap in kitaplar if kitap[\"satis\"] >1000]\n",
        "print(\"1000 adedin üzerinde satışı olan kitaplar:\",cok_satanlar)"
      ],
      "metadata": {
        "colab": {
          "base_uri": "https://localhost:8080/"
        },
        "id": "JKJOCUpOhuw5",
        "outputId": "ffa5d3a6-09d9-40de-faf2-471a493979b4"
      },
      "execution_count": 4,
      "outputs": [
        {
          "output_type": "stream",
          "name": "stdout",
          "text": [
            "kitap turleri:  ('Bilim', 'Akademik', 'Sanat', 'Sosyal')\n",
            "1000 adedin üzerinde satışı olan kitaplar: ['Veri Bilimi 101', 'Makine Öğrenmesi', 'Matematiksel Modelleme']\n"
          ]
        }
      ]
    },
    {
      "cell_type": "code",
      "source": [
        "yeniler = list(filter(lambda x: x[\"yil\"]>2020,kitaplar))\n",
        "print(\"2020 yılından sonra çıkmış olan kitaplar:\",yeniler)\n",
        "\n",
        "artan = list(map(lambda x: x[\"satis\"] * 1.1,kitaplar))\n",
        "print(\"satışları %10 arttırırsak:\",artan)\n",
        "\n",
        "for i, kitap in enumerate(kitaplar):\n",
        "    kitap['yeni_satis'] = artan[i]\n",
        "\n",
        "satislar = list(map(lambda x: x[\"yeni_satis\"], kitaplar))\n",
        "sirali = sorted(satislar,reverse=True)\n",
        "print(\"satislar büyükten küçüğe doğru:\",sirali)\n",
        "\n"
      ],
      "metadata": {
        "colab": {
          "base_uri": "https://localhost:8080/"
        },
        "id": "5iN4RXqwj7ke",
        "outputId": "497f0513-302e-4a07-8cd5-e6665b3c3f8d"
      },
      "execution_count": 5,
      "outputs": [
        {
          "output_type": "stream",
          "name": "stdout",
          "text": [
            "2020 yılından sonra çıkmış olan kitaplar: [{'isim': 'Veri Bilimi 101', 'yazar': 'Ali', 'tur': 'Bilim', 'satis': 1200, 'yil': 2021}, {'isim': 'Makine Öğrenmesi', 'yazar': 'Can', 'tur': 'Bilim', 'satis': 1800, 'yil': 2022}, {'isim': 'Matematiksel Modelleme', 'yazar': 'Ali', 'tur': 'Akademik', 'satis': 1500, 'yil': 2021}, {'isim': 'Bilgi Toplumu', 'yazar': 'Ayşe', 'tur': 'Sosyal', 'satis': 600, 'yil': 2022}]\n",
            "satışları %10 arttırırsak: [1320.0, 1045.0, 770.0000000000001, 1980.0000000000002, 440.00000000000006, 1650.0000000000002, 660.0]\n",
            "satislar büyükten küçüğe doğru: [1980.0000000000002, 1650.0000000000002, 1320.0, 1045.0, 770.0000000000001, 660.0, 440.00000000000006]\n"
          ]
        }
      ]
    },
    {
      "cell_type": "code",
      "source": [
        "import numpy as np\n",
        "import statistics\n",
        "\n",
        "yeni_satisler = [kitap['yeni_satis'] for kitap in kitaplar]\n",
        "ortalama = np.mean(yeni_satisler)\n",
        "print(\"ortalama satis adedi:\",ortalama)\n",
        "\n",
        "tur_satis = {}\n",
        "for kitap in kitaplar:\n",
        "    tur = kitap['tur']\n",
        "    satis = kitap['yeni_satis']\n",
        "    if tur not in tur_satis:\n",
        "        tur_satis[tur] = 0\n",
        "    tur_satis[tur] += satis\n",
        "\n",
        "en_cok_satan_tur = max(tur_satis, key=tur_satis.get)\n",
        "print(\"En çok satış yapan tür:\", en_cok_satan_tur)\n",
        "\n",
        "std_sapma =  [kitap['yeni_satis'] for kitap in kitaplar]\n",
        "std_sapanlar = np.std(std_sapma)\n",
        "print(\"standart sapma:\",std_sapanlar)\n"
      ],
      "metadata": {
        "colab": {
          "base_uri": "https://localhost:8080/"
        },
        "id": "b0aAUetkkgcZ",
        "outputId": "9e78c5cc-c015-4a7e-eda4-d66c181ce6f8"
      },
      "execution_count": 6,
      "outputs": [
        {
          "output_type": "stream",
          "name": "stdout",
          "text": [
            "ortalama satis adedi: 1123.5714285714287\n",
            "En çok satış yapan tür: Bilim\n",
            "standart sapma: 515.8260662396241\n"
          ]
        }
      ]
    },
    {
      "cell_type": "code",
      "source": [
        "import random\n",
        "import numpy as np\n",
        "\n",
        "n = len(kitaplar)\n",
        "egitim_sayisi = int(0.7 * n)\n",
        "\n",
        "egitim = random.sample(kitaplar, egitim_sayisi)\n",
        "test = [k for k in kitaplar if k not in egitim]\n",
        "\n",
        "print(\"eğitim seti :\",egitim)\n",
        "print(\"test seti:\",test)\n",
        "\n",
        "\n",
        "egitim_satislari = [kitap[\"yeni_satis\"] for kitap in egitim]\n",
        "ortalama = np.mean(egitim_satislari)\n",
        "print(\"eğitim verisinin ortalama satışları:\",ortalama)\n",
        "\n",
        "for kitap in test:\n",
        "    if kitap[\"yeni_satis\"] > ortalama:\n",
        "        durum = \"ÜZERİNDE \"\n",
        "    else:\n",
        "        durum = \"ALTINDA \"\n",
        "    print(f\"{kitap['isim']} ({kitap['yazar']}) → Satış: {kitap['yeni_satis']} → {durum}\")"
      ],
      "metadata": {
        "colab": {
          "base_uri": "https://localhost:8080/"
        },
        "id": "4tj4E_L9Ar1K",
        "outputId": "ea3550c4-02c6-40a6-b58d-b06a7b12a309"
      },
      "execution_count": 15,
      "outputs": [
        {
          "output_type": "stream",
          "name": "stdout",
          "text": [
            "eğitim seti : [{'isim': 'İstatistik Temelleri', 'yazar': 'Ali', 'tur': 'Akademik', 'satis': 700, 'yil': 2019, 'yeni_satis': 770.0000000000001}, {'isim': 'Python ile Yapay Zeka', 'yazar': 'Ayşe', 'tur': 'Bilim', 'satis': 950, 'yil': 2020, 'yeni_satis': 1045.0}, {'isim': 'Makine Öğrenmesi', 'yazar': 'Can', 'tur': 'Bilim', 'satis': 1800, 'yil': 2022, 'yeni_satis': 1980.0000000000002}, {'isim': 'Veri Görselleştirme', 'yazar': 'Deniz', 'tur': 'Sanat', 'satis': 400, 'yil': 2018, 'yeni_satis': 440.00000000000006}]\n",
            "test seti: [{'isim': 'Veri Bilimi 101', 'yazar': 'Ali', 'tur': 'Bilim', 'satis': 1200, 'yil': 2021, 'yeni_satis': 1320.0}, {'isim': 'Matematiksel Modelleme', 'yazar': 'Ali', 'tur': 'Akademik', 'satis': 1500, 'yil': 2021, 'yeni_satis': 1650.0000000000002}, {'isim': 'Bilgi Toplumu', 'yazar': 'Ayşe', 'tur': 'Sosyal', 'satis': 600, 'yil': 2022, 'yeni_satis': 660.0}]\n",
            "eğitim verisinin ortalama satışları: 1058.75\n",
            "Veri Bilimi 101 (Ali) → Satış: 1320.0 → ÜZERİNDE \n",
            "Matematiksel Modelleme (Ali) → Satış: 1650.0000000000002 → ÜZERİNDE \n",
            "Bilgi Toplumu (Ayşe) → Satış: 660.0 → ALTINDA \n"
          ]
        }
      ]
    }
  ]
}